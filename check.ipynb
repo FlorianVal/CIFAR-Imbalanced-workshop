{
 "cells": [
  {
   "cell_type": "code",
   "execution_count": null,
   "metadata": {},
   "outputs": [],
   "source": [
    "import pickle\n",
    "from collections import Counter\n",
    "\n",
    "# Load the imbalanced data\n",
    "with open('imbalanced_data.pkl', 'rb') as f:\n",
    "    imbalanced_data = pickle.load(f)\n",
    "\n",
    "# Extract labels\n",
    "labels = [label for _, label in imbalanced_data]\n",
    "\n",
    "# Count the number of instances per class\n",
    "class_counts = Counter(labels)\n",
    "\n",
    "# Print class counts\n",
    "for class_label, count in class_counts.items():\n",
    "    print(f'Class {class_label} has {count} instances')\n",
    "\n",
    "# Print total number of classes\n",
    "print(f'Total number of classes: {len(class_counts)}')\n",
    "\n"
   ]
  },
  {
   "cell_type": "code",
   "execution_count": null,
   "metadata": {},
   "outputs": [],
   "source": [
    "# Plot example images from each class\n",
    "\n",
    "import matplotlib.pyplot as plt\n",
    "\n",
    "# Define class names\n",
    "\n",
    "class_names = ['plane', 'car', 'bird', 'cat', 'deer', 'dog', 'frog', 'horse', 'ship', 'truck']\n",
    "\n",
    "# Define figure size\n",
    "plt.figure(figsize=(10, 10))\n",
    "\n",
    "# Load the imbalanced data\n",
    "with open('imbalanced_data.pkl', 'rb') as f:\n",
    "    imbalanced_data = pickle.load(f)\n",
    "\n",
    "# Extract images and labels\n",
    "images, labels = zip(*imbalanced_data)\n",
    "\n",
    "idx = [0, 500, 1000, 1500, 2000, 2500, 3000, 3500, 4000, 4500]\n",
    "for id in idx:\n",
    "    plt.subplot(5, 2, idx.index(id) + 1)\n",
    "    plt.imshow(images[id])\n",
    "    plt.title(class_names[labels[id]])\n",
    "    plt.axis('off')\n",
    "    "
   ]
  }
 ],
 "metadata": {
  "kernelspec": {
   "display_name": "Python 3",
   "language": "python",
   "name": "python3"
  },
  "language_info": {
   "codemirror_mode": {
    "name": "ipython",
    "version": 3
   },
   "file_extension": ".py",
   "mimetype": "text/x-python",
   "name": "python",
   "nbconvert_exporter": "python",
   "pygments_lexer": "ipython3",
   "version": "3.11.3"
  }
 },
 "nbformat": 4,
 "nbformat_minor": 2
}
